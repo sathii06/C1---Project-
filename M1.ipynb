{
 "cells": [
  {
   "cell_type": "markdown",
   "metadata": {},
   "source": [
    "# To build a model for training and testing:"
   ]
  },
  {
   "cell_type": "code",
   "execution_count": 1,
   "metadata": {},
   "outputs": [],
   "source": [
    "import os\n",
    "import numpy as np\n",
    "import matplotlib.pyplot as plt\n",
    "import tensorflow as tf\n",
    "from os import listdir\n",
    "import glob\n",
    "from PIL import Image\n",
    "import cv2\n",
    "from random import randrange\n",
    "from sklearn.model_selection import train_test_split"
   ]
  },
  {
   "cell_type": "code",
   "execution_count": 2,
   "metadata": {},
   "outputs": [],
   "source": [
    "import warnings\n",
    "warnings.filterwarnings('ignore')"
   ]
  },
  {
   "cell_type": "code",
   "execution_count": 3,
   "metadata": {},
   "outputs": [],
   "source": [
    "H = 128\n",
    "W = 128"
   ]
  },
  {
   "cell_type": "code",
   "execution_count": 4,
   "metadata": {},
   "outputs": [],
   "source": [
    "ori_images = 'dataset/train/Images'\n",
    "mask_images = 'dataset/train/Masks'"
   ]
  },
  {
   "cell_type": "code",
   "execution_count": 5,
   "metadata": {},
   "outputs": [],
   "source": [
    "def plot_images(item_dir, n=6):\n",
    "    all_item_dir = os.listdir(item_dir)\n",
    "    item_files = [os.path.join(item_dir, file) for file in all_item_dir][:n]\n",
    "    \n",
    "    plt.figure(figsize=(80, 40))\n",
    "    for idx, img_path in enumerate(item_files):\n",
    "        plt.subplot(7, n, idx+1)\n",
    "        img = plt.imread(img_path)\n",
    "        plt.imshow(img, cmap='gray')\n",
    "        plt.axis('off')\n",
    "    \n",
    "    plt.tight_layout()"
   ]
  },
  {
   "cell_type": "code",
   "execution_count": 6,
   "metadata": {},
   "outputs": [],
   "source": [
    "def Images_details_Print_data(data, path):\n",
    "    print(\" ====== Images in: \", path)    \n",
    "    for k, v in data.items():\n",
    "        print(\"%s:\\t%s\" % (k, v))\n",
    "\n",
    "def Images_details(path):\n",
    "    files = [f for f in glob.glob(path + \"**/*.*\", recursive=True)]\n",
    "    data = {}\n",
    "    data['images_count'] = len(files)\n",
    "    data['min_width'] = 10**100  # No image will be bigger than that\n",
    "    data['max_width'] = 0\n",
    "    data['min_height'] = 10**100  # No image will be bigger than that\n",
    "    data['max_height'] = 0\n",
    "\n",
    "\n",
    "    for f in files:\n",
    "        im = Image.open(f)\n",
    "        width, height = im.size\n",
    "        data['min_width'] = min(width, data['min_width'])\n",
    "        data['max_width'] = max(width, data['max_height'])\n",
    "        data['min_height'] = min(height, data['min_height'])\n",
    "        data['max_height'] = max(height, data['max_height'])\n",
    "\n",
    "    Images_details_Print_data(data, path)"
   ]
  },
  {
   "cell_type": "code",
   "execution_count": null,
   "metadata": {},
   "outputs": [
    {
     "name": "stdout",
     "output_type": "stream",
     "text": [
      "\n",
      "Trainned data for Images:\n",
      "\n",
      " ====== Images in:  dataset/train/Images\n",
      "images_count:\t1000\n",
      "min_width:\t576\n",
      "max_width:\t2848\n",
      "min_height:\t540\n",
      "max_height:\t2848\n",
      "\n"
     ]
    }
   ],
   "source": [
    "print(\"\")\n",
    "print(\"Trainned data for Images:\")\n",
    "print(\"\")\n",
    "Images_details(ori_images)\n",
    "print(\"\")\n",
    "plot_images(ori_images, 25)"
   ]
  },
  {
   "cell_type": "code",
   "execution_count": null,
   "metadata": {},
   "outputs": [],
   "source": [
    "print(\"\")\n",
    "print(\"Trainned data for Masks:\")\n",
    "print(\"\")\n",
    "Images_details(mask_images)\n",
    "print(\"\")\n",
    "plot_images(mask_images, 25)"
   ]
  },
  {
   "cell_type": "code",
   "execution_count": null,
   "metadata": {},
   "outputs": [],
   "source": [
    "def load_data(dataset_path, split=0.2):\n",
    "    images = [f for f in glob.glob(ori_images + \"**/*.jpg\", recursive=True)]\n",
    "    masks = [f for f in glob.glob(mask_images + \"**/*.png\", recursive=True)]\n",
    "\n",
    "    test_size = int(len(images) * split)\n",
    "\n",
    "    train_x, test_x = train_test_split(images, test_size=test_size, random_state=42)\n",
    "    train_y, test_y = train_test_split(masks, test_size=test_size, random_state=42)\n",
    "\n",
    "    return (train_x, train_y), (test_x, test_y)"
   ]
  },
  {
   "cell_type": "code",
   "execution_count": null,
   "metadata": {},
   "outputs": [],
   "source": [
    "dataset_path = \"dataset\"\n",
    "(train_x, train_y), (test_x, test_y) = load_data(dataset_path)\n",
    "\n",
    "print(f\"Train: {len(train_x)} - {len(train_y)}\")\n",
    "print(f\"Test: {len(test_x)} - {len(test_y)}\")"
   ]
  },
  {
   "cell_type": "code",
   "execution_count": null,
   "metadata": {},
   "outputs": [],
   "source": [
    "train_x"
   ]
  },
  {
   "cell_type": "code",
   "execution_count": null,
   "metadata": {},
   "outputs": [],
   "source": [
    "index = randrange(0, len(train_x))\n",
    "check_i = cv2.imread(train_x[index])\n",
    "check_m = cv2.imread(train_y[index])\n",
    "fig = plt.figure(figsize=(10, 7))\n",
    "fig.add_subplot(1, 2, 1)\n",
    "plt.imshow(check_i)\n",
    "plt.axis('off')\n",
    "plt.title(\"Original\")\n",
    "fig.add_subplot(1, 2, 2)\n",
    "plt.imshow(check_i)\n",
    "plt.axis('off')\n",
    "plt.title(\"Mask\")\n",
    "plt.imshow(check_m)"
   ]
  },
  {
   "cell_type": "code",
   "execution_count": null,
   "metadata": {},
   "outputs": [],
   "source": []
  },
  {
   "cell_type": "code",
   "execution_count": null,
   "metadata": {},
   "outputs": [],
   "source": []
  }
 ],
 "metadata": {
  "kernelspec": {
   "display_name": "Python 3 (ipykernel)",
   "language": "python",
   "name": "python3"
  },
  "language_info": {
   "codemirror_mode": {
    "name": "ipython",
    "version": 3
   },
   "file_extension": ".py",
   "mimetype": "text/x-python",
   "name": "python",
   "nbconvert_exporter": "python",
   "pygments_lexer": "ipython3",
   "version": "3.10.9"
  }
 },
 "nbformat": 4,
 "nbformat_minor": 2
}
